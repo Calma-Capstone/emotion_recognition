{
 "cells": [
  {
   "cell_type": "code",
   "execution_count": 2,
   "metadata": {},
   "outputs": [],
   "source": [
    "import os\n",
    "import pathlib\n",
    "\n",
    "import tensorflow as tf"
   ]
  },
  {
   "cell_type": "code",
   "execution_count": 3,
   "metadata": {},
   "outputs": [],
   "source": [
    "# Print iterations progress\n",
    "def printProgressBar (iteration, total, prefix = '', suffix = '', decimals = 1, length = 100, fill = '█', printEnd = \"\\r\"):\n",
    "    \"\"\"\n",
    "    Call in a loop to create terminal progress bar\n",
    "    @params:\n",
    "        iteration   - Required  : current iteration (Int)\n",
    "        total       - Required  : total iterations (Int)\n",
    "        prefix      - Optional  : prefix string (Str)\n",
    "        suffix      - Optional  : suffix string (Str)\n",
    "        decimals    - Optional  : positive number of decimals in percent complete (Int)\n",
    "        length      - Optional  : character length of bar (Int)\n",
    "        fill        - Optional  : bar fill character (Str)\n",
    "        printEnd    - Optional  : end character (e.g. \"\\r\", \"\\r\\n\") (Str)\n",
    "    \"\"\"\n",
    "    percent = (\"{0:.\" + str(decimals) + \"f}\").format(100 * (iteration / float(total)))\n",
    "    filledLength = int(length * iteration // total)\n",
    "    bar = fill * filledLength + '-' * (length - filledLength)\n",
    "    print(f'\\r{prefix} |{bar}| {percent}% {suffix}', end = printEnd)\n",
    "    # Print New Line on Complete\n",
    "    if iteration == total: \n",
    "        print()"
   ]
  },
  {
   "cell_type": "code",
   "execution_count": 4,
   "metadata": {},
   "outputs": [],
   "source": [
    "classname = ['neutral', 'calm', 'happy', 'sad', 'angry', 'fear', 'disgust', 'surprise']\n",
    "# create folder on data folder\n",
    "for i in range(len(classname)):\n",
    "    os.mkdir('data/'+classname[i])"
   ]
  },
  {
   "cell_type": "code",
   "execution_count": 5,
   "metadata": {},
   "outputs": [
    {
     "name": "stdout",
     "output_type": "stream",
     "text": [
      "Progress (7442/7442): |██████████████████████████████████████████████████| 100.0% Complete\n"
     ]
    }
   ],
   "source": [
    "# CREMA-D \n",
    "# Path: Dataset\\CREMA-D\\AudioWAV\n",
    "# copy file to data folder\n",
    "\n",
    "data_folder = os.path.join(os.getcwd(), 'CREMA-D', 'AudioWAV')\n",
    "numOfSongsPath = len(os.listdir(data_folder))\n",
    "num = 0\n",
    "printProgressBar(0, numOfSongsPath, prefix = f'Progress ({num}/{numOfSongsPath}):', suffix = 'Complete', length = 50)\n",
    "for filename in os.listdir(data_folder):\n",
    "    num += 1\n",
    "    label = filename.split('_')[2]\n",
    "    if label == 'SAD': label = 'sad'\n",
    "    elif label == 'ANG': label = 'angry'\n",
    "    elif label == 'DIS': label = 'disgust'\n",
    "    elif label == 'FEA': label = 'fear'\n",
    "    elif label == 'HAP': label = 'happy'\n",
    "    elif label == 'NEU': label = 'neutral'\n",
    "    elif label == 'CAL': label = 'calm'\n",
    "    elif label == 'SUR': label = 'surprise'\n",
    "    \n",
    "    dst_folder = os.path.join('data', label)\n",
    "    src = os.path.join(data_folder, filename)\n",
    "    dst = os.path.join(dst_folder, filename)\n",
    "    os.rename(src, dst)\n",
    "    printProgressBar(num, numOfSongsPath, prefix = f'Progress ({num}/{numOfSongsPath}):', suffix = 'Complete', length = 50)\n",
    "\n"
   ]
  },
  {
   "cell_type": "code",
   "execution_count": 6,
   "metadata": {},
   "outputs": [
    {
     "name": "stdout",
     "output_type": "stream",
     "text": [
      "Progress (1440/1440): |██████████████████████████████████████████████████| 100.0% Complete\n"
     ]
    }
   ],
   "source": [
    "# RAVDESS Emotional speech audio\n",
    "\n",
    "# Path: Dataset\\RAVDESS\\Audio_Speech_Actors_01-24\n",
    "# copy file to data folder\n",
    "data_folder = os.path.join(os.getcwd(), 'RAVDESS Emotional speech audio', 'Audio_Speech_Actors_01-24')\n",
    "all_filenames = []\n",
    "all_paths = []\n",
    "all_labels = []\n",
    "for folder in os.listdir(data_folder):\n",
    "    if folder == '.DS_Store': continue\n",
    "    for filename in os.listdir(os.path.join(data_folder, folder)):\n",
    "        if filename == '.DS_Store': continue\n",
    "        all_paths.append(os.path.join(data_folder, folder, filename))\n",
    "        all_filenames.append(filename)\n",
    "        label = filename.split('-')[2]\n",
    "        if label == '01': label = 'neutral'\n",
    "        elif label == '02': label = 'calm'\n",
    "        elif label == '03': label = 'happy'\n",
    "        elif label == '04': label = 'sad'\n",
    "        elif label == '05': label = 'angry'\n",
    "        elif label == '06': label = 'fear'\n",
    "        elif label == '07': label = 'disgust'\n",
    "        elif label == '08': label = 'surprise'\n",
    "        all_labels.append(label)\n",
    "\n",
    "numOfSongsPath = len(all_paths)\n",
    "num = 0\n",
    "printProgressBar(0, numOfSongsPath, prefix = f'Progress ({num}/{numOfSongsPath}):', suffix = 'Complete', length = 50)\n",
    "for i in range(len(all_paths)):\n",
    "    num += 1\n",
    "    src = all_paths[i]\n",
    "    dst_folder = os.path.join('data', all_labels[i])\n",
    "    dst = os.path.join(dst_folder, all_filenames[i])\n",
    "    os.rename(src, dst)\n",
    "    printProgressBar(num, numOfSongsPath, prefix = f'Progress ({num}/{numOfSongsPath}):', suffix = 'Complete', length = 50)"
   ]
  },
  {
   "cell_type": "code",
   "execution_count": 7,
   "metadata": {},
   "outputs": [
    {
     "name": "stdout",
     "output_type": "stream",
     "text": [
      "Progress (480/480): |██████████████████████████████████████████████████| 100.0% Complete\n"
     ]
    }
   ],
   "source": [
    "# Surrey Audio-Visuel Expressed Emotion (SAVEE)\n",
    "\n",
    "# Path: Dataset\\SAVEE\\ALL\n",
    "# copy file to data folder\n",
    "data_folder = os.path.join(os.getcwd(), 'Surrey Audio-Visual Expressed Emotion (SAVEE)', 'ALL')\n",
    "numOfSongsPath = len(os.listdir(data_folder))\n",
    "num = 0\n",
    "printProgressBar(0, numOfSongsPath, prefix = f'Progress ({num}/{numOfSongsPath}):', suffix = 'Complete', length = 50)\n",
    "for filename in os.listdir(data_folder):\n",
    "    num += 1\n",
    "    label = filename.split('_')[1]\n",
    "    if label.startswith('a'): label = 'angry'\n",
    "    elif label.startswith('d'): label = 'disgust'\n",
    "    elif label.startswith('f'): label = 'fear'\n",
    "    elif label.startswith('h'): label = 'happy'\n",
    "    elif label.startswith('n'): label = 'neutral'\n",
    "    elif label.startswith('sa'): label = 'sad'\n",
    "    elif label.startswith('su'): label = 'surprise'\n",
    "    dst_folder = os.path.join('data', label)\n",
    "    src = os.path.join(data_folder, filename)\n",
    "    dst = os.path.join(dst_folder, filename)\n",
    "    os.rename(src, dst)\n",
    "    printProgressBar(num, numOfSongsPath, prefix = f'Progress ({num}/{numOfSongsPath}):', suffix = 'Complete', length = 50)"
   ]
  },
  {
   "cell_type": "code",
   "execution_count": 8,
   "metadata": {},
   "outputs": [
    {
     "name": "stdout",
     "output_type": "stream",
     "text": [
      "Progress (2800/2800): |██████████████████████████████████████████████████| 100.0% Complete\n"
     ]
    }
   ],
   "source": [
    "# Toronto emotional speech set (TESS)\n",
    "\n",
    "# Path: Dataset\\TESS\\TESS Toronto emotional speech set data\n",
    "# copy file to data folder\n",
    "data_folder = os.path.join(os.getcwd(), 'Toronto emotional speech set (TESS)', 'TESS Toronto emotional speech set data', 'TESS Toronto emotional speech set data')\n",
    "all_filenames = []\n",
    "all_paths = []\n",
    "all_labels = []\n",
    "for folder in os.listdir(data_folder):\n",
    "    if folder == '.DS_Store': continue\n",
    "    for filename in os.listdir(os.path.join(data_folder, folder)):\n",
    "        if filename == '.DS_Store': continue\n",
    "        all_paths.append(os.path.join(data_folder, folder, filename))\n",
    "        all_filenames.append(filename)\n",
    "        label = filename.split('_')[2] \\\n",
    "                        .split('.')[0]\n",
    "        if label == 'ps': label = 'surprise'\n",
    "        all_labels.append(label)\n",
    "\n",
    "numOfSongsPath = len(all_paths)\n",
    "num = 0\n",
    "printProgressBar(0, numOfSongsPath, prefix = f'Progress ({num}/{numOfSongsPath}):', suffix = 'Complete', length = 50)\n",
    "for i in range(len(all_paths)):\n",
    "    num += 1\n",
    "    src = all_paths[i]\n",
    "    dst_folder = os.path.join('data', all_labels[i])\n",
    "    dst = os.path.join(dst_folder, all_filenames[i])\n",
    "    os.rename(src, dst)\n",
    "    printProgressBar(num, numOfSongsPath, prefix = f'Progress ({num}/{numOfSongsPath}):', suffix = 'Complete', length = 50)\n",
    "\n"
   ]
  },
  {
   "cell_type": "code",
   "execution_count": 18,
   "metadata": {},
   "outputs": [
    {
     "name": "stdout",
     "output_type": "stream",
     "text": [
      "Number of total examples: 12162\n",
      "Number of examples per label: 1923\n",
      "Example file tensor: tf.Tensor(b'data\\\\angry\\\\YAF_shack_angry.wav', shape=(), dtype=string)\n"
     ]
    }
   ],
   "source": [
    "data_dir = pathlib.Path('data/')\n",
    "filenames = tf.io.gfile.glob(str(data_dir) + '/*/*')\n",
    "filenames = tf.random.shuffle(filenames)\n",
    "num_samples = len(filenames)\n",
    "print('Number of total examples:', num_samples)\n",
    "print('Number of examples per label:',\n",
    "      len(tf.io.gfile.listdir(str(data_dir/\"angry\"))))\n",
    "print('Example file tensor:', filenames[0])"
   ]
  }
 ],
 "metadata": {
  "kernelspec": {
   "display_name": "Python 3",
   "language": "python",
   "name": "python3"
  },
  "language_info": {
   "codemirror_mode": {
    "name": "ipython",
    "version": 3
   },
   "file_extension": ".py",
   "mimetype": "text/x-python",
   "name": "python",
   "nbconvert_exporter": "python",
   "pygments_lexer": "ipython3",
   "version": "3.11.0"
  },
  "orig_nbformat": 4
 },
 "nbformat": 4,
 "nbformat_minor": 2
}
